{
 "cells": [
  {
   "cell_type": "markdown",
   "metadata": {},
   "source": [
    "# Apprendre à utiliser et visualiser un Dataset Synthetic\n",
    "\n",
    "A la fin de ce workshop vous saurez:\n",
    "\n",
    "- Adopter un workflow de base avec GitHub (Develop, Verify, Commit)\n",
    "- Générer un dataset synthetic de classification 2D avec la librairie sklearn\n",
    "- Visualiser les classes du dataset sur un graphique 2D\n",
    "- Visualiser les prédictions de votre réseau de neurones sur un graphique 2D.\n",
    "- (BONUS) Introduction au Refactoring: vous refactoriserez un code jupyter pour en faire une fonction réutilisable."
   ]
  },
  {
   "cell_type": "code",
   "execution_count": 1,
   "metadata": {},
   "outputs": [],
   "source": [
    "# Importer les libraries utiles\n",
    "\n",
    "import numpy as np \n",
    "import matplotlib.pyplot as plt\n",
    "\n",
    "from sklearn.datasets import make_moons, make_circles, make_classification"
   ]
  },
  {
   "cell_type": "code",
   "execution_count": 11,
   "metadata": {},
   "outputs": [
    {
     "name": "stdout",
     "output_type": "stream",
     "text": [
      "Total Size :  150\n"
     ]
    }
   ],
   "source": [
    "# Créer un dataset séparable par une ligne droite en 2D\n",
    "\n",
    "train_size = 100\n",
    "test_size  =  50\n",
    "\n",
    "total_size = train_size + test_size \n",
    "\n",
    "print(\"Total Size : \", total_size)\n",
    "\n",
    "X, y = make_classification(n_samples=total_size,\n",
    "                          n_features=2, n_redundant=0, n_informative=2,\n",
    "                          random_state=1, n_clusters_per_class=1)"
   ]
  },
  {
   "cell_type": "code",
   "execution_count": 5,
   "metadata": {},
   "outputs": [
    {
     "data": {
      "text/plain": [
       "((150, 2), (150,))"
      ]
     },
     "execution_count": 5,
     "metadata": {},
     "output_type": "execute_result"
    }
   ],
   "source": [
    "X.shape, y.shape"
   ]
  },
  {
   "cell_type": "code",
   "execution_count": 6,
   "metadata": {},
   "outputs": [
    {
     "data": {
      "text/plain": [
       "(150, 1)"
      ]
     },
     "execution_count": 6,
     "metadata": {},
     "output_type": "execute_result"
    }
   ],
   "source": [
    "y = y.reshape(-1, 1)\n",
    "\n",
    "y.shape"
   ]
  },
  {
   "cell_type": "code",
   "execution_count": 7,
   "metadata": {},
   "outputs": [
    {
     "data": {
      "text/plain": [
       "(array([[ 0.05065666, -1.04565042],\n",
       "        [ 1.89212817,  0.14141529],\n",
       "        [ 2.07731874, -1.10588188],\n",
       "        [-0.21268004,  1.55015655],\n",
       "        [ 1.33003867, -0.93929107],\n",
       "        [ 0.9684331 , -1.14497058],\n",
       "        [-0.12252602, -0.92897868],\n",
       "        [-2.11442959, -0.72665594],\n",
       "        [ 1.30958609, -1.03968501],\n",
       "        [ 1.22239591, -1.00761238]]), array([[1],\n",
       "        [0],\n",
       "        [1],\n",
       "        [0],\n",
       "        [1],\n",
       "        [1],\n",
       "        [1],\n",
       "        [1],\n",
       "        [1],\n",
       "        [1]]))"
      ]
     },
     "execution_count": 7,
     "metadata": {},
     "output_type": "execute_result"
    }
   ],
   "source": [
    "X[:10], y[:10]"
   ]
  },
  {
   "cell_type": "code",
   "execution_count": 8,
   "metadata": {},
   "outputs": [
    {
     "name": "stdout",
     "output_type": "stream",
     "text": [
      "(100, 2) (100, 1)\n",
      "(50, 2) (50, 1)\n"
     ]
    }
   ],
   "source": [
    "# Séparer en train / test\n",
    "\n",
    "X_train, y_train = (X[:train_size], y[:train_size])\n",
    "X_test , y_test  = (X[-test_size:], y[-test_size:])\n",
    "\n",
    "assert X_test.shape[0] + X_train.shape[0] == total_size\n",
    "assert y_test.shape[0] + y_train.shape[0] == total_size\n",
    "\n",
    "print(X_train.shape, y_train.shape)\n",
    "print(X_test.shape, y_test.shape)"
   ]
  },
  {
   "cell_type": "code",
   "execution_count": 12,
   "metadata": {},
   "outputs": [
    {
     "data": {
      "text/plain": [
       "<matplotlib.collections.PathCollection at 0x7f65f096c9e8>"
      ]
     },
     "execution_count": 12,
     "metadata": {},
     "output_type": "execute_result"
    },
    {
     "data": {
      "image/png": "[encoded data removed]",
      "text/plain": [
       "<Figure size 432x288 with 1 Axes>"
      ]
     },
     "metadata": {
      "needs_background": "light"
     },
     "output_type": "display_data"
    }
   ],
   "source": [
    "# Visualiser le dataset d'une manière informative\n",
    "\n",
    "plt.scatter(X_train[:, 0], X_train[:, 1],\n",
    "           c=y_train[:, 0],\n",
    "           cmap=plt.)"
   ]
  }
 ],
 "metadata": {
  "kernelspec": {
   "display_name": "Python 3",
   "language": "python",
   "name": "python3"
  },
  "language_info": {
   "codemirror_mode": {
    "name": "ipython",
    "version": 3
   },
   "file_extension": ".py",
   "mimetype": "text/x-python",
   "name": "python",
   "nbconvert_exporter": "python",
   "pygments_lexer": "ipython3",
   "version": "3.7.1"
  }
 },
 "nbformat": 4,
 "nbformat_minor": 2
}
